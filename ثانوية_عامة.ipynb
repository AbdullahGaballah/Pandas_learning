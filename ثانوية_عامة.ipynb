{
  "cells": [
    {
      "cell_type": "markdown",
      "metadata": {
        "id": "view-in-github",
        "colab_type": "text"
      },
      "source": [
        "<a href=\"https://colab.research.google.com/github/AbdullahGaballah/Pandas_learning/blob/main/%D8%AB%D8%A7%D9%86%D9%88%D9%8A%D8%A9_%D8%B9%D8%A7%D9%85%D8%A9.ipynb\" target=\"_parent\"><img src=\"https://colab.research.google.com/assets/colab-badge.svg\" alt=\"Open In Colab\"/></a>"
      ]
    },
    {
      "cell_type": "code",
      "execution_count": null,
      "id": "dd3c65de",
      "metadata": {
        "id": "dd3c65de"
      },
      "outputs": [],
      "source": [
        "import pandas as pd\n",
        "import numpy as np"
      ]
    },
    {
      "cell_type": "code",
      "execution_count": null,
      "id": "7ea71b28",
      "metadata": {
        "id": "7ea71b28"
      },
      "outputs": [],
      "source": [
        "data = pd.read_excel('Stage_New_Search.xlsx')"
      ]
    },
    {
      "cell_type": "code",
      "execution_count": null,
      "id": "9e63b755",
      "metadata": {
        "id": "9e63b755",
        "outputId": "e22e5a34-b803-4e60-9e24-a73ff8398817"
      },
      "outputs": [
        {
          "data": {
            "text/html": [
              "<div>\n",
              "<style scoped>\n",
              "    .dataframe tbody tr th:only-of-type {\n",
              "        vertical-align: middle;\n",
              "    }\n",
              "\n",
              "    .dataframe tbody tr th {\n",
              "        vertical-align: top;\n",
              "    }\n",
              "\n",
              "    .dataframe thead th {\n",
              "        text-align: right;\n",
              "    }\n",
              "</style>\n",
              "<table border=\"1\" class=\"dataframe\">\n",
              "  <thead>\n",
              "    <tr style=\"text-align: right;\">\n",
              "      <th></th>\n",
              "      <th>seating_no</th>\n",
              "      <th>arabic_name</th>\n",
              "      <th>total_degree</th>\n",
              "      <th>student_case</th>\n",
              "      <th>student_case_desc</th>\n",
              "      <th>c_flage</th>\n",
              "    </tr>\n",
              "  </thead>\n",
              "  <tbody>\n",
              "    <tr>\n",
              "      <th>0</th>\n",
              "      <td>1000500</td>\n",
              "      <td>احمد السيد عبدالمالك المدني الشيخ</td>\n",
              "      <td>636.250000</td>\n",
              "      <td>1</td>\n",
              "      <td>ناجح دور أول</td>\n",
              "      <td>3</td>\n",
              "    </tr>\n",
              "    <tr>\n",
              "      <th>1</th>\n",
              "      <td>1000501</td>\n",
              "      <td>احمد خالد زين العابدين حسن</td>\n",
              "      <td>547.150024</td>\n",
              "      <td>1</td>\n",
              "      <td>ناجح دور أول</td>\n",
              "      <td>3</td>\n",
              "    </tr>\n",
              "    <tr>\n",
              "      <th>2</th>\n",
              "      <td>1000502</td>\n",
              "      <td>باسل محمد سعيد طنطاوي عبدالجواد</td>\n",
              "      <td>608.239990</td>\n",
              "      <td>1</td>\n",
              "      <td>ناجح دور أول</td>\n",
              "      <td>3</td>\n",
              "    </tr>\n",
              "    <tr>\n",
              "      <th>3</th>\n",
              "      <td>1000503</td>\n",
              "      <td>جوناثان ماجد ملاك توماس</td>\n",
              "      <td>626.710022</td>\n",
              "      <td>1</td>\n",
              "      <td>ناجح دور أول</td>\n",
              "      <td>3</td>\n",
              "    </tr>\n",
              "    <tr>\n",
              "      <th>4</th>\n",
              "      <td>1000504</td>\n",
              "      <td>رشاد عبدالتواب رشاد عبدالتواب</td>\n",
              "      <td>632.809998</td>\n",
              "      <td>1</td>\n",
              "      <td>ناجح دور أول</td>\n",
              "      <td>3</td>\n",
              "    </tr>\n",
              "  </tbody>\n",
              "</table>\n",
              "</div>"
            ],
            "text/plain": [
              "   seating_no                        arabic_name  total_degree  student_case  \\\n",
              "0     1000500  احمد السيد عبدالمالك المدني الشيخ    636.250000             1   \n",
              "1     1000501         احمد خالد زين العابدين حسن    547.150024             1   \n",
              "2     1000502    باسل محمد سعيد طنطاوي عبدالجواد    608.239990             1   \n",
              "3     1000503            جوناثان ماجد ملاك توماس    626.710022             1   \n",
              "4     1000504      رشاد عبدالتواب رشاد عبدالتواب    632.809998             1   \n",
              "\n",
              "  student_case_desc  c_flage  \n",
              "0      ناجح دور أول        3  \n",
              "1      ناجح دور أول        3  \n",
              "2      ناجح دور أول        3  \n",
              "3      ناجح دور أول        3  \n",
              "4      ناجح دور أول        3  "
            ]
          },
          "execution_count": 3,
          "metadata": {},
          "output_type": "execute_result"
        }
      ],
      "source": [
        "data.head()"
      ]
    },
    {
      "cell_type": "code",
      "execution_count": null,
      "id": "cb022375",
      "metadata": {
        "id": "cb022375",
        "outputId": "9b8dd0f5-4726-475e-a644-deb50d0e8779"
      },
      "outputs": [
        {
          "name": "stdout",
          "output_type": "stream",
          "text": [
            "<class 'pandas.core.frame.DataFrame'>\n",
            "RangeIndex: 764462 entries, 0 to 764461\n",
            "Data columns (total 6 columns):\n",
            " #   Column             Non-Null Count   Dtype  \n",
            "---  ------             --------------   -----  \n",
            " 0   seating_no         764462 non-null  int64  \n",
            " 1   arabic_name        764462 non-null  object \n",
            " 2   total_degree       764462 non-null  float64\n",
            " 3   student_case       764462 non-null  int64  \n",
            " 4   student_case_desc  764462 non-null  object \n",
            " 5   c_flage            764462 non-null  int64  \n",
            "dtypes: float64(1), int64(3), object(2)\n",
            "memory usage: 35.0+ MB\n"
          ]
        }
      ],
      "source": [
        " data.info()"
      ]
    },
    {
      "cell_type": "code",
      "execution_count": null,
      "id": "d56d60c3",
      "metadata": {
        "id": "d56d60c3"
      },
      "outputs": [],
      "source": [
        "data['grade_percentage'] = data['total_degree'] / 410 * 100\n"
      ]
    },
    {
      "cell_type": "code",
      "execution_count": null,
      "id": "83eb9a36",
      "metadata": {
        "id": "83eb9a36"
      },
      "outputs": [],
      "source": [
        "data1 = data.loc[(data[\"seating_no\"] >1725500)&(data[\"seating_no\"] <1730000)]"
      ]
    },
    {
      "cell_type": "code",
      "execution_count": null,
      "id": "345b4903",
      "metadata": {
        "id": "345b4903",
        "outputId": "ee948283-6e19-44b0-dd01-3702d78e196f"
      },
      "outputs": [
        {
          "data": {
            "text/html": [
              "<div>\n",
              "<style scoped>\n",
              "    .dataframe tbody tr th:only-of-type {\n",
              "        vertical-align: middle;\n",
              "    }\n",
              "\n",
              "    .dataframe tbody tr th {\n",
              "        vertical-align: top;\n",
              "    }\n",
              "\n",
              "    .dataframe thead th {\n",
              "        text-align: right;\n",
              "    }\n",
              "</style>\n",
              "<table border=\"1\" class=\"dataframe\">\n",
              "  <thead>\n",
              "    <tr style=\"text-align: right;\">\n",
              "      <th></th>\n",
              "      <th>seating_no</th>\n",
              "      <th>arabic_name</th>\n",
              "      <th>total_degree</th>\n",
              "      <th>student_case</th>\n",
              "      <th>student_case_desc</th>\n",
              "      <th>c_flage</th>\n",
              "      <th>grade_percentage</th>\n",
              "    </tr>\n",
              "  </thead>\n",
              "  <tbody>\n",
              "    <tr>\n",
              "      <th>618024</th>\n",
              "      <td>1725501</td>\n",
              "      <td>جيهان أحمد الشربينى فرحات</td>\n",
              "      <td>265.0</td>\n",
              "      <td>1</td>\n",
              "      <td>ناجح دور أول</td>\n",
              "      <td>1</td>\n",
              "      <td>64.634146</td>\n",
              "    </tr>\n",
              "    <tr>\n",
              "      <th>618025</th>\n",
              "      <td>1725502</td>\n",
              "      <td>حبيبه ابراهيم سلامه احمد</td>\n",
              "      <td>364.0</td>\n",
              "      <td>1</td>\n",
              "      <td>ناجح دور أول</td>\n",
              "      <td>1</td>\n",
              "      <td>88.780488</td>\n",
              "    </tr>\n",
              "    <tr>\n",
              "      <th>618026</th>\n",
              "      <td>1725503</td>\n",
              "      <td>حبيبه محمد محمد حسن</td>\n",
              "      <td>283.0</td>\n",
              "      <td>1</td>\n",
              "      <td>ناجح دور أول</td>\n",
              "      <td>1</td>\n",
              "      <td>69.024390</td>\n",
              "    </tr>\n",
              "    <tr>\n",
              "      <th>618027</th>\n",
              "      <td>1725504</td>\n",
              "      <td>دنيا السيد محمد السيد على</td>\n",
              "      <td>297.5</td>\n",
              "      <td>1</td>\n",
              "      <td>ناجح دور أول</td>\n",
              "      <td>1</td>\n",
              "      <td>72.560976</td>\n",
              "    </tr>\n",
              "    <tr>\n",
              "      <th>618028</th>\n",
              "      <td>1725505</td>\n",
              "      <td>دينا احمد ابراهيم اسماعيل</td>\n",
              "      <td>311.5</td>\n",
              "      <td>1</td>\n",
              "      <td>ناجح دور أول</td>\n",
              "      <td>1</td>\n",
              "      <td>75.975610</td>\n",
              "    </tr>\n",
              "  </tbody>\n",
              "</table>\n",
              "</div>"
            ],
            "text/plain": [
              "        seating_no                arabic_name  total_degree  student_case  \\\n",
              "618024     1725501  جيهان أحمد الشربينى فرحات         265.0             1   \n",
              "618025     1725502   حبيبه ابراهيم سلامه احمد         364.0             1   \n",
              "618026     1725503        حبيبه محمد محمد حسن         283.0             1   \n",
              "618027     1725504  دنيا السيد محمد السيد على         297.5             1   \n",
              "618028     1725505  دينا احمد ابراهيم اسماعيل         311.5             1   \n",
              "\n",
              "       student_case_desc  c_flage  grade_percentage  \n",
              "618024      ناجح دور أول        1         64.634146  \n",
              "618025      ناجح دور أول        1         88.780488  \n",
              "618026      ناجح دور أول        1         69.024390  \n",
              "618027      ناجح دور أول        1         72.560976  \n",
              "618028      ناجح دور أول        1         75.975610  "
            ]
          },
          "execution_count": 7,
          "metadata": {},
          "output_type": "execute_result"
        }
      ],
      "source": [
        "data1.head()"
      ]
    },
    {
      "cell_type": "code",
      "execution_count": null,
      "id": "1fce6934",
      "metadata": {
        "id": "1fce6934",
        "outputId": "3978344c-caad-4cc5-e1ce-19166eec624c"
      },
      "outputs": [
        {
          "data": {
            "text/html": [
              "<div>\n",
              "<style scoped>\n",
              "    .dataframe tbody tr th:only-of-type {\n",
              "        vertical-align: middle;\n",
              "    }\n",
              "\n",
              "    .dataframe tbody tr th {\n",
              "        vertical-align: top;\n",
              "    }\n",
              "\n",
              "    .dataframe thead th {\n",
              "        text-align: right;\n",
              "    }\n",
              "</style>\n",
              "<table border=\"1\" class=\"dataframe\">\n",
              "  <thead>\n",
              "    <tr style=\"text-align: right;\">\n",
              "      <th></th>\n",
              "      <th>seating_no</th>\n",
              "      <th>arabic_name</th>\n",
              "      <th>total_degree</th>\n",
              "      <th>student_case</th>\n",
              "      <th>student_case_desc</th>\n",
              "      <th>c_flage</th>\n",
              "      <th>grade_percentage</th>\n",
              "    </tr>\n",
              "  </thead>\n",
              "  <tbody>\n",
              "    <tr>\n",
              "      <th>130525</th>\n",
              "      <td>1154020</td>\n",
              "      <td>محمد عبدالحكيم السيد محمد ابوموسى</td>\n",
              "      <td>280.0</td>\n",
              "      <td>1</td>\n",
              "      <td>ناجح دور أول</td>\n",
              "      <td>1</td>\n",
              "      <td>68.292683</td>\n",
              "    </tr>\n",
              "    <tr>\n",
              "      <th>137000</th>\n",
              "      <td>1160652</td>\n",
              "      <td>يوسف محمد عبدالحكيم السيد المنشاوي</td>\n",
              "      <td>244.5</td>\n",
              "      <td>1</td>\n",
              "      <td>ناجح دور أول</td>\n",
              "      <td>1</td>\n",
              "      <td>59.634146</td>\n",
              "    </tr>\n",
              "    <tr>\n",
              "      <th>160824</th>\n",
              "      <td>1185763</td>\n",
              "      <td>وليد محمد عبدالحكيم السيد</td>\n",
              "      <td>227.0</td>\n",
              "      <td>1</td>\n",
              "      <td>ناجح دور أول</td>\n",
              "      <td>1</td>\n",
              "      <td>55.365854</td>\n",
              "    </tr>\n",
              "  </tbody>\n",
              "</table>\n",
              "</div>"
            ],
            "text/plain": [
              "        seating_no                         arabic_name  total_degree  \\\n",
              "130525     1154020   محمد عبدالحكيم السيد محمد ابوموسى         280.0   \n",
              "137000     1160652  يوسف محمد عبدالحكيم السيد المنشاوي         244.5   \n",
              "160824     1185763           وليد محمد عبدالحكيم السيد         227.0   \n",
              "\n",
              "        student_case student_case_desc  c_flage  grade_percentage  \n",
              "130525             1      ناجح دور أول        1         68.292683  \n",
              "137000             1      ناجح دور أول        1         59.634146  \n",
              "160824             1      ناجح دور أول        1         55.365854  "
            ]
          },
          "execution_count": 8,
          "metadata": {},
          "output_type": "execute_result"
        }
      ],
      "source": [
        "#بحث بالاسم\n",
        "result = data[data['arabic_name'].str.contains(\"محمد عبدالحكيم السيد\")]\n",
        "result =pd.DataFrame(result)\n",
        "result.head(60)"
      ]
    },
    {
      "cell_type": "code",
      "execution_count": null,
      "id": "6122de12",
      "metadata": {
        "id": "6122de12"
      },
      "outputs": [],
      "source": [
        "#بحث برقم الجلوس\n",
        "result = data.loc[data['seating_no'] ==1734696 ]"
      ]
    },
    {
      "cell_type": "code",
      "execution_count": null,
      "id": "794c66e1",
      "metadata": {
        "id": "794c66e1",
        "outputId": "dc31a695-4286-40c2-a965-a4923f986b3a"
      },
      "outputs": [
        {
          "data": {
            "text/html": [
              "<div>\n",
              "<style scoped>\n",
              "    .dataframe tbody tr th:only-of-type {\n",
              "        vertical-align: middle;\n",
              "    }\n",
              "\n",
              "    .dataframe tbody tr th {\n",
              "        vertical-align: top;\n",
              "    }\n",
              "\n",
              "    .dataframe thead th {\n",
              "        text-align: right;\n",
              "    }\n",
              "</style>\n",
              "<table border=\"1\" class=\"dataframe\">\n",
              "  <thead>\n",
              "    <tr style=\"text-align: right;\">\n",
              "      <th></th>\n",
              "      <th>seating_no</th>\n",
              "      <th>arabic_name</th>\n",
              "      <th>total_degree</th>\n",
              "      <th>student_case</th>\n",
              "      <th>student_case_desc</th>\n",
              "      <th>c_flage</th>\n",
              "      <th>grade_percentage</th>\n",
              "    </tr>\n",
              "  </thead>\n",
              "  <tbody>\n",
              "    <tr>\n",
              "      <th>627076</th>\n",
              "      <td>1734696</td>\n",
              "      <td>فاطمه الزهراء محمد عبدالفتاح احمد</td>\n",
              "      <td>237.0</td>\n",
              "      <td>2</td>\n",
              "      <td>دور ثان</td>\n",
              "      <td>1</td>\n",
              "      <td>57.804878</td>\n",
              "    </tr>\n",
              "  </tbody>\n",
              "</table>\n",
              "</div>"
            ],
            "text/plain": [
              "        seating_no                        arabic_name  total_degree  \\\n",
              "627076     1734696  فاطمه الزهراء محمد عبدالفتاح احمد         237.0   \n",
              "\n",
              "        student_case student_case_desc  c_flage  grade_percentage  \n",
              "627076             2           دور ثان        1         57.804878  "
            ]
          },
          "execution_count": 10,
          "metadata": {},
          "output_type": "execute_result"
        }
      ],
      "source": [
        "result"
      ]
    },
    {
      "cell_type": "code",
      "execution_count": null,
      "id": "873d2da5",
      "metadata": {
        "id": "873d2da5",
        "outputId": "eb1dc58d-edfb-495c-c8a6-9b53e5d63bdc"
      },
      "outputs": [
        {
          "name": "stdout",
          "output_type": "stream",
          "text": [
            "627076    فاطمه الزهراء محمد عبدالفتاح احمد\n",
            "Name: arabic_name, dtype: object 627076    57.804878\n",
            "Name: grade_percentage, dtype: float64\n"
          ]
        }
      ],
      "source": [
        "print(result['arabic_name'],result['grade_percentage'])"
      ]
    },
    {
      "cell_type": "code",
      "execution_count": null,
      "id": "28324c36",
      "metadata": {
        "id": "28324c36"
      },
      "outputs": [],
      "source": [
        "import matplotlib.pyplot as plt"
      ]
    },
    {
      "cell_type": "code",
      "execution_count": null,
      "id": "b7b5f3c6",
      "metadata": {
        "id": "b7b5f3c6"
      },
      "outputs": [],
      "source": [
        "#قص ارقام جلوس مدرسه حسب ارقام الجلوس\n",
        "\n",
        "ELAZAY = data[618511:618639]"
      ]
    },
    {
      "cell_type": "code",
      "execution_count": null,
      "id": "663d4f3e",
      "metadata": {
        "id": "663d4f3e",
        "outputId": "5b85d721-e37b-493b-c42f-0288bcf18a9d"
      },
      "outputs": [
        {
          "data": {
            "text/html": [
              "<div>\n",
              "<style scoped>\n",
              "    .dataframe tbody tr th:only-of-type {\n",
              "        vertical-align: middle;\n",
              "    }\n",
              "\n",
              "    .dataframe tbody tr th {\n",
              "        vertical-align: top;\n",
              "    }\n",
              "\n",
              "    .dataframe thead th {\n",
              "        text-align: right;\n",
              "    }\n",
              "</style>\n",
              "<table border=\"1\" class=\"dataframe\">\n",
              "  <thead>\n",
              "    <tr style=\"text-align: right;\">\n",
              "      <th></th>\n",
              "      <th>seating_no</th>\n",
              "      <th>arabic_name</th>\n",
              "      <th>total_degree</th>\n",
              "      <th>student_case</th>\n",
              "      <th>student_case_desc</th>\n",
              "      <th>c_flage</th>\n",
              "      <th>grade_percentage</th>\n",
              "    </tr>\n",
              "  </thead>\n",
              "  <tbody>\n",
              "    <tr>\n",
              "      <th>618511</th>\n",
              "      <td>1725995</td>\n",
              "      <td>احمد رضا محمد ابراهيم عبدالله</td>\n",
              "      <td>250.0</td>\n",
              "      <td>1</td>\n",
              "      <td>ناجح دور أول</td>\n",
              "      <td>1</td>\n",
              "      <td>60.975610</td>\n",
              "    </tr>\n",
              "    <tr>\n",
              "      <th>618512</th>\n",
              "      <td>1725996</td>\n",
              "      <td>احمد سالم عبدالعال سالم عمران</td>\n",
              "      <td>256.0</td>\n",
              "      <td>1</td>\n",
              "      <td>ناجح دور أول</td>\n",
              "      <td>1</td>\n",
              "      <td>62.439024</td>\n",
              "    </tr>\n",
              "    <tr>\n",
              "      <th>618513</th>\n",
              "      <td>1725997</td>\n",
              "      <td>احمد محمد السيد مصطفى</td>\n",
              "      <td>268.5</td>\n",
              "      <td>1</td>\n",
              "      <td>ناجح دور أول</td>\n",
              "      <td>1</td>\n",
              "      <td>65.487805</td>\n",
              "    </tr>\n",
              "    <tr>\n",
              "      <th>618514</th>\n",
              "      <td>1725998</td>\n",
              "      <td>احمد محمد حسين إبراهيم منصور</td>\n",
              "      <td>250.5</td>\n",
              "      <td>1</td>\n",
              "      <td>ناجح دور أول</td>\n",
              "      <td>1</td>\n",
              "      <td>61.097561</td>\n",
              "    </tr>\n",
              "    <tr>\n",
              "      <th>618515</th>\n",
              "      <td>1725999</td>\n",
              "      <td>احمد محمد ماهر محمد عبدالسلام</td>\n",
              "      <td>210.5</td>\n",
              "      <td>2</td>\n",
              "      <td>دور ثان</td>\n",
              "      <td>1</td>\n",
              "      <td>51.341463</td>\n",
              "    </tr>\n",
              "  </tbody>\n",
              "</table>\n",
              "</div>"
            ],
            "text/plain": [
              "        seating_no                    arabic_name  total_degree  student_case  \\\n",
              "618511     1725995  احمد رضا محمد ابراهيم عبدالله         250.0             1   \n",
              "618512     1725996  احمد سالم عبدالعال سالم عمران         256.0             1   \n",
              "618513     1725997          احمد محمد السيد مصطفى         268.5             1   \n",
              "618514     1725998   احمد محمد حسين إبراهيم منصور         250.5             1   \n",
              "618515     1725999  احمد محمد ماهر محمد عبدالسلام         210.5             2   \n",
              "\n",
              "       student_case_desc  c_flage  grade_percentage  \n",
              "618511      ناجح دور أول        1         60.975610  \n",
              "618512      ناجح دور أول        1         62.439024  \n",
              "618513      ناجح دور أول        1         65.487805  \n",
              "618514      ناجح دور أول        1         61.097561  \n",
              "618515           دور ثان        1         51.341463  "
            ]
          },
          "execution_count": 14,
          "metadata": {},
          "output_type": "execute_result"
        }
      ],
      "source": [
        "ELAZAY.head()"
      ]
    },
    {
      "cell_type": "code",
      "execution_count": null,
      "id": "10464c90",
      "metadata": {
        "id": "10464c90"
      },
      "outputs": [],
      "source": [
        "data['grade_percentage'] = data['grade_percentage'].astype(int)"
      ]
    },
    {
      "cell_type": "code",
      "execution_count": null,
      "id": "19ba2826",
      "metadata": {
        "id": "19ba2826"
      },
      "outputs": [],
      "source": [
        "ELAZAY.to_excel('ELAZAY.xlsx', sheet_name='AZAZY', index=False)"
      ]
    },
    {
      "cell_type": "code",
      "execution_count": null,
      "id": "a9df8bba",
      "metadata": {
        "id": "a9df8bba",
        "outputId": "6daf1299-ea6c-4bdd-bfca-d8730ec84ea5"
      },
      "outputs": [
        {
          "data": {
            "text/html": [
              "<div>\n",
              "<style scoped>\n",
              "    .dataframe tbody tr th:only-of-type {\n",
              "        vertical-align: middle;\n",
              "    }\n",
              "\n",
              "    .dataframe tbody tr th {\n",
              "        vertical-align: top;\n",
              "    }\n",
              "\n",
              "    .dataframe thead th {\n",
              "        text-align: right;\n",
              "    }\n",
              "</style>\n",
              "<table border=\"1\" class=\"dataframe\">\n",
              "  <thead>\n",
              "    <tr style=\"text-align: right;\">\n",
              "      <th></th>\n",
              "      <th>seating_no</th>\n",
              "      <th>arabic_name</th>\n",
              "      <th>total_degree</th>\n",
              "      <th>student_case</th>\n",
              "      <th>student_case_desc</th>\n",
              "      <th>c_flage</th>\n",
              "      <th>grade_percentage</th>\n",
              "    </tr>\n",
              "  </thead>\n",
              "  <tbody>\n",
              "    <tr>\n",
              "      <th>618511</th>\n",
              "      <td>1725995</td>\n",
              "      <td>احمد رضا محمد ابراهيم عبدالله</td>\n",
              "      <td>250.0</td>\n",
              "      <td>1</td>\n",
              "      <td>ناجح دور أول</td>\n",
              "      <td>1</td>\n",
              "      <td>60.975610</td>\n",
              "    </tr>\n",
              "    <tr>\n",
              "      <th>618512</th>\n",
              "      <td>1725996</td>\n",
              "      <td>احمد سالم عبدالعال سالم عمران</td>\n",
              "      <td>256.0</td>\n",
              "      <td>1</td>\n",
              "      <td>ناجح دور أول</td>\n",
              "      <td>1</td>\n",
              "      <td>62.439024</td>\n",
              "    </tr>\n",
              "    <tr>\n",
              "      <th>618513</th>\n",
              "      <td>1725997</td>\n",
              "      <td>احمد محمد السيد مصطفى</td>\n",
              "      <td>268.5</td>\n",
              "      <td>1</td>\n",
              "      <td>ناجح دور أول</td>\n",
              "      <td>1</td>\n",
              "      <td>65.487805</td>\n",
              "    </tr>\n",
              "    <tr>\n",
              "      <th>618514</th>\n",
              "      <td>1725998</td>\n",
              "      <td>احمد محمد حسين إبراهيم منصور</td>\n",
              "      <td>250.5</td>\n",
              "      <td>1</td>\n",
              "      <td>ناجح دور أول</td>\n",
              "      <td>1</td>\n",
              "      <td>61.097561</td>\n",
              "    </tr>\n",
              "    <tr>\n",
              "      <th>618515</th>\n",
              "      <td>1725999</td>\n",
              "      <td>احمد محمد ماهر محمد عبدالسلام</td>\n",
              "      <td>210.5</td>\n",
              "      <td>2</td>\n",
              "      <td>دور ثان</td>\n",
              "      <td>1</td>\n",
              "      <td>51.341463</td>\n",
              "    </tr>\n",
              "  </tbody>\n",
              "</table>\n",
              "</div>"
            ],
            "text/plain": [
              "        seating_no                    arabic_name  total_degree  student_case  \\\n",
              "618511     1725995  احمد رضا محمد ابراهيم عبدالله         250.0             1   \n",
              "618512     1725996  احمد سالم عبدالعال سالم عمران         256.0             1   \n",
              "618513     1725997          احمد محمد السيد مصطفى         268.5             1   \n",
              "618514     1725998   احمد محمد حسين إبراهيم منصور         250.5             1   \n",
              "618515     1725999  احمد محمد ماهر محمد عبدالسلام         210.5             2   \n",
              "\n",
              "       student_case_desc  c_flage  grade_percentage  \n",
              "618511      ناجح دور أول        1         60.975610  \n",
              "618512      ناجح دور أول        1         62.439024  \n",
              "618513      ناجح دور أول        1         65.487805  \n",
              "618514      ناجح دور أول        1         61.097561  \n",
              "618515           دور ثان        1         51.341463  "
            ]
          },
          "execution_count": 17,
          "metadata": {},
          "output_type": "execute_result"
        }
      ],
      "source": [
        "ELAZAY.head()"
      ]
    },
    {
      "cell_type": "code",
      "execution_count": null,
      "id": "1d2b3166",
      "metadata": {
        "id": "1d2b3166",
        "outputId": "bb6374ba-448d-4464-99eb-83b098aaecd5"
      },
      "outputs": [
        {
          "data": {
            "image/png": "[encoded data removed]",
            "text/plain": [
              "<Figure size 432x288 with 1 Axes>"
            ]
          },
          "metadata": {
            "needs_background": "light"
          },
          "output_type": "display_data"
        }
      ],
      "source": [
        "import matplotlib.pyplot as plt\n",
        "\n",
        "# create a histogram of the 'grade_percentage' column\n",
        "data['grade_percentage'].hist()\n",
        "\n",
        "# set the x-axis label\n",
        "plt.xlabel('Grade Percentage')\n",
        "\n",
        "# set the y-axis label\n",
        "plt.ylabel('Frequency')\n",
        "\n",
        "# set the title\n",
        "plt.title('Distribution of Grade Percentage')\n",
        "\n",
        "# show the plot\n",
        "plt.show()"
      ]
    },
    {
      "cell_type": "code",
      "execution_count": null,
      "id": "2e2c2c58",
      "metadata": {
        "id": "2e2c2c58",
        "outputId": "788149e8-f200-4c59-c6aa-de77f4817a7d"
      },
      "outputs": [
        {
          "data": {
            "image/png": "[encoded data removed]",
            "text/plain": [
              "<Figure size 432x288 with 1 Axes>"
            ]
          },
          "metadata": {
            "needs_background": "light"
          },
          "output_type": "display_data"
        }
      ],
      "source": [
        "import matplotlib.pyplot as plt\n",
        "\n",
        "# create a histogram of the 'grade_percentage' column\n",
        "plt.hist(data['grade_percentage'], bins=10)\n",
        "\n",
        "# set the x-axis label\n",
        "plt.xlabel('Grade Percentage')\n",
        "\n",
        "# set the y-axis label\n",
        "plt.ylabel('Number of Students')\n",
        "\n",
        "# set the title\n",
        "plt.title('Distribution of Grade Percentages')\n",
        "\n",
        "# show the plot\n",
        "plt.show()"
      ]
    },
    {
      "cell_type": "code",
      "execution_count": null,
      "id": "fe413f33",
      "metadata": {
        "id": "fe413f33"
      },
      "outputs": [],
      "source": [
        "r= data['grade_percentage'].value_counts()"
      ]
    },
    {
      "cell_type": "code",
      "execution_count": null,
      "id": "daa66fe5",
      "metadata": {
        "id": "daa66fe5",
        "outputId": "b1c4e01a-0818-4c07-d5f7-7baa7cd1e86f"
      },
      "outputs": [
        {
          "data": {
            "text/plain": [
              "65    22536\n",
              "60    22142\n",
              "50    21259\n",
              "70    20756\n",
              "55    20714\n",
              "63    20316\n",
              "64    20276\n",
              "62    20017\n",
              "61    19818\n",
              "66    19735\n",
              "67    19669\n",
              "58    19371\n",
              "59    19289\n",
              "68    19183\n",
              "69    18981\n",
              "56    18909\n",
              "57    18886\n",
              "53    18540\n",
              "54    18499\n",
              "52    18139\n",
              "71    18045\n",
              "51    17573\n",
              "75    17237\n",
              "72    17142\n",
              "73    16645\n",
              "74    16065\n",
              "76    14394\n",
              "77    14012\n",
              "78    13417\n",
              "80    13379\n",
              "79    12524\n",
              "81    11298\n",
              "47    10885\n",
              "82    10687\n",
              "48    10130\n",
              "83     9709\n",
              "46     9460\n",
              "85     9454\n",
              "84     9041\n",
              "49     9031\n",
              "86     7902\n",
              "45     7205\n",
              "87     7159\n",
              "88     6570\n",
              "43     5933\n",
              "89     5833\n",
              "90     5806\n",
              "44     5700\n",
              "42     4669\n",
              "91     4411\n",
              "Name: grade_percentage, dtype: int64"
            ]
          },
          "execution_count": 21,
          "metadata": {},
          "output_type": "execute_result"
        }
      ],
      "source": [
        "r.head(50)"
      ]
    },
    {
      "cell_type": "code",
      "execution_count": null,
      "id": "ccc13c83",
      "metadata": {
        "id": "ccc13c83",
        "outputId": "8c564aba-8b10-44de-dd4b-81f05f8e8c4f"
      },
      "outputs": [
        {
          "data": {
            "image/png": "[encoded data removed]",
            "text/plain": [
              "<Figure size 432x288 with 1 Axes>"
            ]
          },
          "metadata": {
            "needs_background": "light"
          },
          "output_type": "display_data"
        }
      ],
      "source": [
        "import seaborn as sns\n",
        "\n",
        "# create a kernel density plot of the 'grade_percentage' column\n",
        "sns.kdeplot(data['grade_percentage'])\n",
        "\n",
        "# set the x-axis label\n",
        "plt.xlabel('Grade Percentage')\n",
        "\n",
        "# set the y-axis label\n",
        "plt.ylabel('Density')\n",
        "\n",
        "# set the title\n",
        "plt.title('Distribution of Grade Percentage')\n",
        "\n",
        "# show the plot\n",
        "plt.show()"
      ]
    },
    {
      "cell_type": "code",
      "execution_count": null,
      "id": "01ba2dc7",
      "metadata": {
        "id": "01ba2dc7",
        "outputId": "11562fd1-bda0-46a3-bbde-e70e46b452ba"
      },
      "outputs": [
        {
          "data": {
            "image/png": "[encoded data removed]",
            "text/plain": [
              "<Figure size 432x288 with 1 Axes>"
            ]
          },
          "metadata": {
            "needs_background": "light"
          },
          "output_type": "display_data"
        }
      ],
      "source": [
        "import seaborn as sns\n",
        "\n",
        "# create a box plot of the 'grade_percentage' column, grouped by 'student_case'\n",
        "sns.boxplot(x='student_case', y='grade_percentage', data=data)\n",
        "\n",
        "# set the x-axis label\n",
        "plt.xlabel('Student Case')\n",
        "\n",
        "# set the y-axis label\n",
        "plt.ylabel('Grade Percentage')\n",
        "\n",
        "# set the title\n",
        "plt.title('Distribution of Grade Percentage by Student Case')\n",
        "\n",
        "# show the plot\n",
        "plt.show()"
      ]
    },
    {
      "cell_type": "code",
      "execution_count": null,
      "id": "511c172a",
      "metadata": {
        "id": "511c172a",
        "outputId": "659cbd89-76de-42ba-80e6-bfdbf37fafd9"
      },
      "outputs": [
        {
          "data": {
            "image/png": "[encoded data removed]",
            "text/plain": [
              "<Figure size 432x288 with 1 Axes>"
            ]
          },
          "metadata": {
            "needs_background": "light"
          },
          "output_type": "display_data"
        }
      ],
      "source": [
        "import seaborn as sns\n",
        "\n",
        "# create a violin plot of the 'grade_percentage' column, grouped by 'student_case'\n",
        "sns.violinplot(x='student_case', y='grade_percentage', data=data)\n",
        "\n",
        "# set the x-axis label\n",
        "plt.xlabel('Student Case')\n",
        "\n",
        "# set the y-axis label\n",
        "plt.ylabel('Grade Percentage')\n",
        "\n",
        "# set the title\n",
        "plt.title('Distribution of Grade Percentage by Student Case')\n",
        "\n",
        "# show the plot\n",
        "plt.show()"
      ]
    },
    {
      "cell_type": "code",
      "execution_count": null,
      "id": "48e9adf7",
      "metadata": {
        "id": "48e9adf7",
        "outputId": "e8c152ba-7565-477c-f22d-7a01b0072d44"
      },
      "outputs": [
        {
          "data": {
            "image/png": "[encoded data removed]",
            "text/plain": [
              "<Figure size 432x288 with 1 Axes>"
            ]
          },
          "metadata": {
            "needs_background": "light"
          },
          "output_type": "display_data"
        }
      ],
      "source": [
        "import matplotlib.pyplot as plt\n",
        "\n",
        "# create a scatter plot of 'total_degree' vs 'grade_percentage'\n",
        "plt.scatter(data['total_degree'], data['grade_percentage'])\n",
        "\n",
        "# set the x-axis label\n",
        "plt.xlabel('Total Degree')\n",
        "\n",
        "# set the y-axis label\n",
        "plt.ylabel('Grade Percentage')\n",
        "\n",
        "# set the title\n",
        "plt.title('Relationship between Total Degree and Grade Percentage')\n",
        "\n",
        "# show the plot\n",
        "plt.show()"
      ]
    },
    {
      "cell_type": "code",
      "execution_count": null,
      "id": "cf71a803",
      "metadata": {
        "id": "cf71a803",
        "outputId": "6a643b00-abac-4cf1-ae7c-a4ca8380d8c0"
      },
      "outputs": [
        {
          "data": {
            "image/png": "[encoded data removed]",
            "text/plain": [
              "<Figure size 432x288 with 1 Axes>"
            ]
          },
          "metadata": {
            "needs_background": "light"
          },
          "output_type": "display_data"
        }
      ],
      "source": [
        "import matplotlib.pyplot as plt\n",
        "\n",
        "# calculate the mean 'grade_percentage' for each 'student_case' group\n",
        "mean_grade_by_case = data.groupby('student_case')['grade_percentage'].mean()\n",
        "\n",
        "# create a bar chart of the mean 'grade_percentage' by 'student_case'\n",
        "mean_grade_by_case.plot(kind='bar')\n",
        "\n",
        "# set the x-axis label\n",
        "plt.xlabel('Student Case')\n",
        "\n",
        "# set the y-axis label\n",
        "plt.ylabel('Mean Grade Percentage')\n",
        "\n",
        "# set the title\n",
        "plt.title('Mean Grade Percentage by Student Case')\n",
        "\n",
        "# show the plot\n",
        "plt.show()"
      ]
    },
    {
      "cell_type": "code",
      "execution_count": null,
      "id": "356ca109",
      "metadata": {
        "id": "356ca109"
      },
      "outputs": [],
      "source": []
    }
  ],
  "metadata": {
    "kernelspec": {
      "display_name": "Python 3",
      "language": "python",
      "name": "python3"
    },
    "language_info": {
      "codemirror_mode": {
        "name": "ipython",
        "version": 3
      },
      "file_extension": ".py",
      "mimetype": "text/x-python",
      "name": "python",
      "nbconvert_exporter": "python",
      "pygments_lexer": "ipython3",
      "version": "3.8.8"
    },
    "colab": {
      "provenance": [],
      "include_colab_link": true
    }
  },
  "nbformat": 4,
  "nbformat_minor": 5
}