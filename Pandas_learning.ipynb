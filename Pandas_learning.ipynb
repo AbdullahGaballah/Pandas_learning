{
  "nbformat": 4,
  "nbformat_minor": 0,
  "metadata": {
    "colab": {
      "provenance": []
    },
    "kernelspec": {
      "name": "python3",
      "display_name": "Python 3"
    },
    "language_info": {
      "name": "python"
    }
  },
  "cells": [
    {
      "cell_type": "markdown",
      "source": [
        "Importing"
      ],
      "metadata": {
        "id": "g7OUU63hzk8k"
      }
    },
    {
      "cell_type": "code",
      "execution_count": 1,
      "metadata": {
        "id": "uF9WNTyDyCFu"
      },
      "outputs": [],
      "source": [
        "import pandas as pd"
      ]
    },
    {
      "cell_type": "markdown",
      "source": [
        "Loading Data"
      ],
      "metadata": {
        "id": "9jVK9UJnzsqT"
      }
    },
    {
      "cell_type": "code",
      "source": [
        "df = pd.read_csv('/content/sample_data/survey/survey_results_public.csv')"
      ],
      "metadata": {
        "id": "-k5dv_vAzsK0"
      },
      "execution_count": null,
      "outputs": []
    },
    {
      "cell_type": "code",
      "source": [
        "df"
      ],
      "metadata": {
        "id": "B4tJwPYXyZeJ"
      },
      "execution_count": null,
      "outputs": []
    },
    {
      "cell_type": "code",
      "source": [
        "#shape \n",
        "df.shape"
      ],
      "metadata": {
        "id": "u46pcDHN0NLT"
      },
      "execution_count": null,
      "outputs": []
    },
    {
      "cell_type": "code",
      "source": [
        "#show all columns\n",
        "pd.set_option('display.max_columns',79)"
      ],
      "metadata": {
        "id": "vI4rz6WL0YG9"
      },
      "execution_count": null,
      "outputs": []
    },
    {
      "cell_type": "code",
      "source": [
        "df"
      ],
      "metadata": {
        "id": "ZRIA89dQ1AEZ"
      },
      "execution_count": null,
      "outputs": []
    },
    {
      "cell_type": "markdown",
      "source": [
        "Data Info\n"
      ],
      "metadata": {
        "id": "XkJGZYSU1PK7"
      }
    },
    {
      "cell_type": "code",
      "source": [
        "df.info()"
      ],
      "metadata": {
        "id": "4kheIoFH1BX_"
      },
      "execution_count": null,
      "outputs": []
    },
    {
      "cell_type": "markdown",
      "source": [
        "Data Schema"
      ],
      "metadata": {
        "id": "XgORPz2v15AF"
      }
    },
    {
      "cell_type": "code",
      "source": [
        "df_schema = pd.read_csv('/content/sample_data/survey/survey_results_schema.csv')"
      ],
      "metadata": {
        "id": "PEnxcGhc1JT3"
      },
      "execution_count": null,
      "outputs": []
    },
    {
      "cell_type": "code",
      "source": [
        "df_schema"
      ],
      "metadata": {
        "id": "_NL1DIyE132N"
      },
      "execution_count": null,
      "outputs": []
    },
    {
      "cell_type": "code",
      "source": [
        "#show all rows\n",
        "pd.set_option('display.max_rows',79)"
      ],
      "metadata": {
        "id": "K7Ow44Ac2Lh7"
      },
      "execution_count": null,
      "outputs": []
    },
    {
      "cell_type": "code",
      "source": [
        "df_schema"
      ],
      "metadata": {
        "id": "wWKCGkIz2mtb"
      },
      "execution_count": null,
      "outputs": []
    },
    {
      "cell_type": "code",
      "source": [
        "#show frist 10 columns\n",
        "df_schema.head(10)"
      ],
      "metadata": {
        "id": "6eC6C3uQ2say"
      },
      "execution_count": null,
      "outputs": []
    },
    {
      "cell_type": "code",
      "source": [
        "#show last 10 columns\n",
        "df_schema.tail(10)"
      ],
      "metadata": {
        "id": "ZUntLrT429Y9"
      },
      "execution_count": null,
      "outputs": []
    },
    {
      "cell_type": "markdown",
      "source": [
        "deal with data without pandas Dataframe"
      ],
      "metadata": {
        "id": "R5Ca0a_q1U0G"
      }
    },
    {
      "cell_type": "code",
      "source": [
        "people ={\n",
        "    'first':['ahmed' ,'mohammed' ,'sara'],\n",
        "    'last' : ['khaled' ,'younes' ,'omar'],\n",
        "    'email' :['ak@gmail.com','my@gamil.com','so@gamil.com']\n",
        "}"
      ],
      "metadata": {
        "id": "UUnaS84v3Mtx"
      },
      "execution_count": null,
      "outputs": []
    },
    {
      "cell_type": "code",
      "source": [
        "people"
      ],
      "metadata": {
        "id": "M0c-Whi52ceM"
      },
      "execution_count": null,
      "outputs": []
    },
    {
      "cell_type": "code",
      "source": [
        "people['email']"
      ],
      "metadata": {
        "id": "EBRJWyYW3a5I"
      },
      "execution_count": null,
      "outputs": []
    },
    {
      "cell_type": "code",
      "source": [
        "people_df=pd.DataFrame(people)"
      ],
      "metadata": {
        "id": "KHiZ2o6t3mGx"
      },
      "execution_count": null,
      "outputs": []
    },
    {
      "cell_type": "markdown",
      "source": [
        "series is list of data\n",
        "..Data_frame is a container of multiple series object "
      ],
      "metadata": {
        "id": "URlOSi2338yq"
      }
    },
    {
      "cell_type": "code",
      "source": [
        "people_df"
      ],
      "metadata": {
        "id": "H62xyusS320J"
      },
      "execution_count": null,
      "outputs": []
    },
    {
      "cell_type": "code",
      "source": [
        "people_df.email"
      ],
      "metadata": {
        "id": "vuMGlK8o40WD"
      },
      "execution_count": null,
      "outputs": []
    },
    {
      "cell_type": "code",
      "source": [
        "#change index columns\n",
        "df_schema.set_index('qid',inplace=True)\n",
        "df.set_index('ResponseId',inplace=True)\n"
      ],
      "metadata": {
        "id": "l-42RrnmOmRf"
      },
      "execution_count": null,
      "outputs": []
    },
    {
      "cell_type": "code",
      "source": [
        "df_schema.sort_index()"
      ],
      "metadata": {
        "id": "t_SPFXc6QVvV"
      },
      "execution_count": null,
      "outputs": []
    },
    {
      "cell_type": "code",
      "source": [
        "df_schema.loc['QID122','question']"
      ],
      "metadata": {
        "id": "Uu-i2CuSRAuW"
      },
      "execution_count": null,
      "outputs": []
    },
    {
      "cell_type": "markdown",
      "source": [
        "Filtering"
      ],
      "metadata": {
        "id": "jU1z1TyGQMye"
      }
    },
    {
      "cell_type": "code",
      "source": [
        "#make filter  \n",
        "high_salary = df['CompTotal'] >7000 "
      ],
      "metadata": {
        "id": "OgOLqY2tTcEO"
      },
      "execution_count": null,
      "outputs": []
    },
    {
      "cell_type": "code",
      "source": [
        "filter_data =df.loc[high_salary,['MainBranch','LanguageHaveWorkedWith','CompTotal']]"
      ],
      "metadata": {
        "id": "sB3z7FSmRzdV"
      },
      "execution_count": null,
      "outputs": []
    },
    {
      "cell_type": "code",
      "source": [
        "filter_data"
      ],
      "metadata": {
        "id": "iKs_DKHvShef"
      },
      "execution_count": null,
      "outputs": []
    },
    {
      "cell_type": "code",
      "source": [
        "#select python programer \n",
        "PyProgramerFilter =filter_data['LanguageHaveWorkedWith'].str.contains('Python',na=False)"
      ],
      "metadata": {
        "id": "hVlXi_uZSj_V"
      },
      "execution_count": null,
      "outputs": []
    },
    {
      "cell_type": "code",
      "source": [
        "PyProgramerData = filter_data.loc[PyProgramerFilter,['MainBranch','LanguageHaveWorkedWith']]"
      ],
      "metadata": {
        "id": "2KXw9HhQTc2r"
      },
      "execution_count": null,
      "outputs": []
    },
    {
      "cell_type": "code",
      "source": [
        "PyProgramerData"
      ],
      "metadata": {
        "id": "ZeDJtQ4yUHes"
      },
      "execution_count": null,
      "outputs": []
    },
    {
      "cell_type": "code",
      "source": [],
      "metadata": {
        "id": "237Ck26QVxD2"
      },
      "execution_count": null,
      "outputs": []
    }
  ]
}